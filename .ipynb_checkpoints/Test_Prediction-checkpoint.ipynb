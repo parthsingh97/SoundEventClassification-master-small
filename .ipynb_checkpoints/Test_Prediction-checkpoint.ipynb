{
 "cells": [
  {
   "cell_type": "code",
   "execution_count": 3,
   "metadata": {},
   "outputs": [
    {
     "name": "stderr",
     "output_type": "stream",
     "text": [
      "C:\\Users\\parth\\anaconda3\\envs\\dcase2019\\lib\\site-packages\\noisereduce\\noisereduce.py:5: TqdmExperimentalWarning: Using `tqdm.autonotebook.tqdm` in notebook mode. Use `tqdm.tqdm` instead to force console mode (e.g. in jupyter console)\n",
      "  from tqdm.autonotebook import tqdm\n",
      "Using TensorFlow backend.\n"
     ]
    }
   ],
   "source": [
    "import numpy as np\n",
    "import librosa\n",
    "import matplotlib.pyplot as plt\n",
    "import noisereduce as nr\n",
    "from keras.models import model_from_json\n",
    "from sklearn.preprocessing import LabelEncoder\n",
    "import IPython\n",
    "import os\n",
    "import csv"
   ]
  },
  {
   "cell_type": "code",
   "execution_count": 4,
   "metadata": {},
   "outputs": [
    {
     "data": {
      "text/plain": [
       "array([0, 1, 2, 3, 4, 5, 6, 7], dtype=int64)"
      ]
     },
     "execution_count": 4,
     "metadata": {},
     "output_type": "execute_result"
    }
   ],
   "source": [
    "#Load segment audio classification model\n",
    "\n",
    "model_path = r\"Audio_classification/Models/\"\n",
    "model_name = \"audio_NN_New2020_03_23_16_40_28_acc_90.37\"\n",
    "\n",
    "# Model reconstruction from JSON file\n",
    "with open(model_path + model_name + '.json', 'r') as f:\n",
    "    model = model_from_json(f.read())\n",
    "\n",
    "# Load weights into the new model\n",
    "model.load_weights(model_path + model_name + '.h5')\n",
    "\n",
    "# Replicate label encoder\n",
    "lb = LabelEncoder()\n",
    "lb.fit_transform(['Calling', 'Clapping', 'Falling', 'Sweeping', 'WashingHand', 'WatchingTV','enteringExiting','other'])"
   ]
  },
  {
   "cell_type": "code",
   "execution_count": 11,
   "metadata": {},
   "outputs": [],
   "source": [
    "#Some Utils\n",
    "\n",
    "# Plot audio with zoomed in y axis\n",
    "def plotAudio(output):\n",
    "    fig, ax = plt.subplots(nrows=1,ncols=1, figsize=(20,10))\n",
    "    plt.plot(output, color='blue')\n",
    "    ax.set_xlim((0, len(output)))\n",
    "    ax.margins(2, -0.1)\n",
    "    plt.show()\n",
    "\n",
    "# Plot audio\n",
    "def plotAudio2(output):\n",
    "    fig, ax = plt.subplots(nrows=1,ncols=1, figsize=(20,4))\n",
    "    plt.plot(output, color='blue')\n",
    "    ax.set_xlim((0, len(output)))\n",
    "    plt.show()\n",
    "\n",
    "# Split a given long audio file on silent parts.\n",
    "# Accepts audio numpy array audio_data, window length w and hop length h, threshold_level, tolerence\n",
    "# threshold_level: Silence threshold\n",
    "# Higher tolence to prevent small silence parts from splitting the audio.\n",
    "# Returns array containing arrays of [start, end] points of resulting audio clips\n",
    "def split_audio(audio_data, w, h, threshold_level, tolerence=10):\n",
    "    split_map = []\n",
    "    start = 0\n",
    "    data = np.abs(audio_data)\n",
    "    threshold = threshold_level*np.mean(data[:20000])\n",
    "    inside_sound = False\n",
    "    near = 0\n",
    "    for i in range(0,len(data)-w, h):\n",
    "        win_mean = np.mean(data[i:i+w])\n",
    "        if(win_mean>threshold and not(inside_sound)):\n",
    "#             print(i, 'inside sound')\n",
    "            inside_sound = True\n",
    "            start = i\n",
    "        if(win_mean<=threshold and inside_sound and near>tolerence):\n",
    "#             print(i, 'outside sound')\n",
    "            inside_sound = False\n",
    "            near = 0\n",
    "            split_map.append([start, i])\n",
    "        if(inside_sound and win_mean<=threshold):\n",
    "            near += 1\n",
    "    return split_map\n",
    "\n",
    "def minMaxNormalize(arr):\n",
    "    mn = np.min(arr)\n",
    "    mx = np.max(arr)\n",
    "    return (arr-mn)/(mx-mn)\n",
    "\n",
    "def predictSound(X):\n",
    "    stfts = np.abs(librosa.stft(X, n_fft=512, hop_length=256, win_length=512))\n",
    "    print('stft len = ', np.shape(stfts))\n",
    "    stfts = np.mean(stfts,axis=1)\n",
    "    print('stft mean len = ', np.shape(stfts))\n",
    "#     stfts = minMaxNormalize(stfts)\n",
    "    result = model.predict(np.array([stfts]))\n",
    "    predictions = [np.argmax(y) for y in result]\n",
    "    return lb.inverse_transform([predictions[0]])[0]"
   ]
  },
  {
   "cell_type": "code",
   "execution_count": 6,
   "metadata": {},
   "outputs": [],
   "source": [
    "def get_win_mean(audio_data, w, h, threshold_level):\n",
    "    data = np.abs(audio_data)\n",
    "    win_mean = np.zeros(shape = raw_audio.shape, dtype = raw_audio.dtype)\n",
    "    threshold = threshold_level*np.mean(data[:20000])\n",
    "    print('np.mean(data[:20000]) = ', np.mean(data[:20000]))\n",
    "    print('threshold = ', threshold)\n",
    "    for i in range(0,len(data)-w, h):\n",
    "        win_mean[i] = np.mean(data[i:i+w])\n",
    "    return win_mean"
   ]
  },
  {
   "cell_type": "code",
   "execution_count": 7,
   "metadata": {},
   "outputs": [],
   "source": [
    "conf_M = []\n",
    "num_labels = len(lb.classes_)\n",
    "\n",
    "for i in range(num_labels):\n",
    "    r = []\n",
    "    for j in range(num_labels):\n",
    "        r.append(0)\n",
    "    conf_M.append(r)\n",
    "\n",
    "def print_M_P(conf_M):\n",
    "    matrix = []\n",
    "    \n",
    "    s = \"activity,\"\n",
    "    row = ['activity']\n",
    "    for i in range(len(conf_M)):\n",
    "        s += lb.inverse_transform([i])[0] + \",\"\n",
    "        row.append(lb.inverse_transform([i])[0])\n",
    "    print(s[:-1])\n",
    "    matrix.append(row)\n",
    "    for i in range(len(conf_M)):\n",
    "        s = \"\"\n",
    "        row = [lb.inverse_transform([i])[0]]\n",
    "        for j in range(len(conf_M)):\n",
    "            val = conf_M[i][j]/float(sum(conf_M[i]))\n",
    "            s += str(round(val,2))\n",
    "            s += \",\"\n",
    "            row.append(str(round(val,2)))\n",
    "        print(lb.inverse_transform([i])[0],\",\", s[:-1])\n",
    "        matrix.append(row)\n",
    "    print()\n",
    "    return matrix\n",
    "        \n",
    "\n",
    "def save_prediction(file, name, label, subject):\n",
    "    # read audio data\n",
    "    raw_audio, sample_rate = librosa.load(file)\n",
    "    print('sr = ', sample_rate)\n",
    "    # noise reduction\n",
    "    noisy_part = raw_audio[0:25000]  # Empherically selected noisy_part position for every sample\n",
    "    nr_audio = nr.reduce_noise(audio_clip=raw_audio, noise_clip=noisy_part, verbose=False)\n",
    "    # trimming\n",
    "    trimmed, index = librosa.effects.trim(nr_audio, top_db=20, frame_length=512, hop_length=64)\n",
    "    \n",
    "    # prediction\n",
    "    pred_label = predictSound(trimmed)\n",
    "    prediction = lb.transform([pred_label])[0]\n",
    "    expectation = lb.transform([label])[0]\n",
    "    conf_M[expectation][prediction] += 1"
   ]
  },
  {
   "cell_type": "code",
   "execution_count": 12,
   "metadata": {},
   "outputs": [
    {
     "name": "stdout",
     "output_type": "stream",
     "text": [
      "stft len =  (257, 715)\n",
      "stft mean len =  (257,)\n",
      "s05 Calling 2019-05-23-14-44-14-725000__1.wav\n",
      "stft len =  (257, 961)\n",
      "stft mean len =  (257,)\n",
      "s05 Calling 2019-05-23-14-44-14-725000__23.wav\n",
      "stft len =  (257, 900)\n",
      "stft mean len =  (257,)\n",
      "s05 Calling 2019-05-23-14-44-14-725000__24.wav\n",
      "stft len =  (257, 332)\n",
      "stft mean len =  (257,)\n",
      "s05 Calling 2019-05-23-15-00-21-197000__1.wav\n",
      "stft len =  (257, 424)\n",
      "stft mean len =  (257,)\n",
      "s05 Calling 2019-05-23-15-00-21-197000__23.wav\n",
      "stft len =  (257, 958)\n",
      "stft mean len =  (257,)\n",
      "s05 Calling 2019-05-23-15-00-21-197000__24.wav\n",
      "stft len =  (257, 96)\n",
      "stft mean len =  (257,)\n",
      "s17 Calling 2019-05-24-16-41-47-063000__1.wav\n",
      "stft len =  (257, 99)\n",
      "stft mean len =  (257,)\n",
      "s17 Calling 2019-05-24-16-41-47-063000__22.wav\n",
      "stft len =  (257, 368)\n",
      "stft mean len =  (257,)\n",
      "s17 Calling 2019-05-24-16-41-47-068000__24.wav\n",
      "stft len =  (257, 22)\n",
      "stft mean len =  (257,)\n",
      "s17 Calling 2019-05-24-16-53-12-526000__1.wav\n"
     ]
    },
    {
     "ename": "KeyboardInterrupt",
     "evalue": "",
     "output_type": "error",
     "traceback": [
      "\u001b[1;31m---------------------------------------------------------------------------\u001b[0m",
      "\u001b[1;31mKeyboardInterrupt\u001b[0m                         Traceback (most recent call last)",
      "\u001b[1;32m<ipython-input-12-3ae4a84f4fc1>\u001b[0m in \u001b[0;36m<module>\u001b[1;34m\u001b[0m\n\u001b[0;32m     38\u001b[0m             \u001b[1;32mif\u001b[0m\u001b[1;33m(\u001b[0m\u001b[0mfile\u001b[0m\u001b[1;33m.\u001b[0m\u001b[0mendswith\u001b[0m\u001b[1;33m(\u001b[0m\u001b[1;34m\".wav\"\u001b[0m\u001b[1;33m)\u001b[0m\u001b[1;33m)\u001b[0m\u001b[1;33m:\u001b[0m\u001b[1;33m\u001b[0m\u001b[1;33m\u001b[0m\u001b[0m\n\u001b[0;32m     39\u001b[0m                 \u001b[0mmodel_label\u001b[0m \u001b[1;33m=\u001b[0m \u001b[0mget_model_label\u001b[0m\u001b[1;33m(\u001b[0m\u001b[0mactivity\u001b[0m\u001b[1;33m)\u001b[0m\u001b[1;33m\u001b[0m\u001b[1;33m\u001b[0m\u001b[0m\n\u001b[1;32m---> 40\u001b[1;33m                 \u001b[0msave_prediction\u001b[0m\u001b[1;33m(\u001b[0m\u001b[1;34m\"Dataset_audio/\"\u001b[0m \u001b[1;33m+\u001b[0m \u001b[0minnerDir\u001b[0m \u001b[1;33m+\u001b[0m \u001b[1;34m\"/\"\u001b[0m \u001b[1;33m+\u001b[0m \u001b[0mfile\u001b[0m\u001b[1;33m,\u001b[0m \u001b[0mfile\u001b[0m\u001b[1;33m,\u001b[0m \u001b[0mmodel_label\u001b[0m\u001b[1;33m,\u001b[0m \u001b[0msubject\u001b[0m\u001b[1;33m)\u001b[0m\u001b[1;33m\u001b[0m\u001b[1;33m\u001b[0m\u001b[0m\n\u001b[0m\u001b[0;32m     41\u001b[0m                 \u001b[0mprint\u001b[0m\u001b[1;33m(\u001b[0m\u001b[0msubject\u001b[0m\u001b[1;33m,\u001b[0m\u001b[0mactivity\u001b[0m\u001b[1;33m,\u001b[0m\u001b[0mfile\u001b[0m\u001b[1;33m)\u001b[0m\u001b[1;33m\u001b[0m\u001b[1;33m\u001b[0m\u001b[0m\n",
      "\u001b[1;32m<ipython-input-7-72dd899c1440>\u001b[0m in \u001b[0;36msave_prediction\u001b[1;34m(file, name, label, subject)\u001b[0m\n\u001b[0;32m     34\u001b[0m \u001b[1;32mdef\u001b[0m \u001b[0msave_prediction\u001b[0m\u001b[1;33m(\u001b[0m\u001b[0mfile\u001b[0m\u001b[1;33m,\u001b[0m \u001b[0mname\u001b[0m\u001b[1;33m,\u001b[0m \u001b[0mlabel\u001b[0m\u001b[1;33m,\u001b[0m \u001b[0msubject\u001b[0m\u001b[1;33m)\u001b[0m\u001b[1;33m:\u001b[0m\u001b[1;33m\u001b[0m\u001b[1;33m\u001b[0m\u001b[0m\n\u001b[0;32m     35\u001b[0m     \u001b[1;31m# read audio data\u001b[0m\u001b[1;33m\u001b[0m\u001b[1;33m\u001b[0m\u001b[1;33m\u001b[0m\u001b[0m\n\u001b[1;32m---> 36\u001b[1;33m     \u001b[0mraw_audio\u001b[0m\u001b[1;33m,\u001b[0m \u001b[0msample_rate\u001b[0m \u001b[1;33m=\u001b[0m \u001b[0mlibrosa\u001b[0m\u001b[1;33m.\u001b[0m\u001b[0mload\u001b[0m\u001b[1;33m(\u001b[0m\u001b[0mfile\u001b[0m\u001b[1;33m)\u001b[0m\u001b[1;33m\u001b[0m\u001b[1;33m\u001b[0m\u001b[0m\n\u001b[0m\u001b[0;32m     37\u001b[0m \u001b[1;33m\u001b[0m\u001b[0m\n\u001b[0;32m     38\u001b[0m     \u001b[1;31m# noise reduction\u001b[0m\u001b[1;33m\u001b[0m\u001b[1;33m\u001b[0m\u001b[1;33m\u001b[0m\u001b[0m\n",
      "\u001b[1;32m~\\anaconda3\\envs\\dcase2019\\lib\\site-packages\\librosa\\core\\audio.py\u001b[0m in \u001b[0;36mload\u001b[1;34m(path, sr, mono, offset, duration, dtype, res_type)\u001b[0m\n\u001b[0;32m    169\u001b[0m \u001b[1;33m\u001b[0m\u001b[0m\n\u001b[0;32m    170\u001b[0m     \u001b[1;32mif\u001b[0m \u001b[0msr\u001b[0m \u001b[1;32mis\u001b[0m \u001b[1;32mnot\u001b[0m \u001b[1;32mNone\u001b[0m\u001b[1;33m:\u001b[0m\u001b[1;33m\u001b[0m\u001b[1;33m\u001b[0m\u001b[0m\n\u001b[1;32m--> 171\u001b[1;33m         \u001b[0my\u001b[0m \u001b[1;33m=\u001b[0m \u001b[0mresample\u001b[0m\u001b[1;33m(\u001b[0m\u001b[0my\u001b[0m\u001b[1;33m,\u001b[0m \u001b[0msr_native\u001b[0m\u001b[1;33m,\u001b[0m \u001b[0msr\u001b[0m\u001b[1;33m,\u001b[0m \u001b[0mres_type\u001b[0m\u001b[1;33m=\u001b[0m\u001b[0mres_type\u001b[0m\u001b[1;33m)\u001b[0m\u001b[1;33m\u001b[0m\u001b[1;33m\u001b[0m\u001b[0m\n\u001b[0m\u001b[0;32m    172\u001b[0m \u001b[1;33m\u001b[0m\u001b[0m\n\u001b[0;32m    173\u001b[0m     \u001b[1;32melse\u001b[0m\u001b[1;33m:\u001b[0m\u001b[1;33m\u001b[0m\u001b[1;33m\u001b[0m\u001b[0m\n",
      "\u001b[1;32m~\\anaconda3\\envs\\dcase2019\\lib\\site-packages\\librosa\\core\\audio.py\u001b[0m in \u001b[0;36mresample\u001b[1;34m(y, orig_sr, target_sr, res_type, fix, scale, **kwargs)\u001b[0m\n\u001b[0;32m    545\u001b[0m         \u001b[0my_hat\u001b[0m \u001b[1;33m=\u001b[0m \u001b[0mscipy\u001b[0m\u001b[1;33m.\u001b[0m\u001b[0msignal\u001b[0m\u001b[1;33m.\u001b[0m\u001b[0mresample_poly\u001b[0m\u001b[1;33m(\u001b[0m\u001b[0my\u001b[0m\u001b[1;33m,\u001b[0m \u001b[0mtarget_sr\u001b[0m \u001b[1;33m//\u001b[0m \u001b[0mgcd\u001b[0m\u001b[1;33m,\u001b[0m \u001b[0morig_sr\u001b[0m \u001b[1;33m//\u001b[0m \u001b[0mgcd\u001b[0m\u001b[1;33m,\u001b[0m \u001b[0maxis\u001b[0m\u001b[1;33m=\u001b[0m\u001b[1;33m-\u001b[0m\u001b[1;36m1\u001b[0m\u001b[1;33m)\u001b[0m\u001b[1;33m\u001b[0m\u001b[1;33m\u001b[0m\u001b[0m\n\u001b[0;32m    546\u001b[0m     \u001b[1;32melse\u001b[0m\u001b[1;33m:\u001b[0m\u001b[1;33m\u001b[0m\u001b[1;33m\u001b[0m\u001b[0m\n\u001b[1;32m--> 547\u001b[1;33m         \u001b[0my_hat\u001b[0m \u001b[1;33m=\u001b[0m \u001b[0mresampy\u001b[0m\u001b[1;33m.\u001b[0m\u001b[0mresample\u001b[0m\u001b[1;33m(\u001b[0m\u001b[0my\u001b[0m\u001b[1;33m,\u001b[0m \u001b[0morig_sr\u001b[0m\u001b[1;33m,\u001b[0m \u001b[0mtarget_sr\u001b[0m\u001b[1;33m,\u001b[0m \u001b[0mfilter\u001b[0m\u001b[1;33m=\u001b[0m\u001b[0mres_type\u001b[0m\u001b[1;33m,\u001b[0m \u001b[0maxis\u001b[0m\u001b[1;33m=\u001b[0m\u001b[1;33m-\u001b[0m\u001b[1;36m1\u001b[0m\u001b[1;33m)\u001b[0m\u001b[1;33m\u001b[0m\u001b[1;33m\u001b[0m\u001b[0m\n\u001b[0m\u001b[0;32m    548\u001b[0m \u001b[1;33m\u001b[0m\u001b[0m\n\u001b[0;32m    549\u001b[0m     \u001b[1;32mif\u001b[0m \u001b[0mfix\u001b[0m\u001b[1;33m:\u001b[0m\u001b[1;33m\u001b[0m\u001b[1;33m\u001b[0m\u001b[0m\n",
      "\u001b[1;32m~\\anaconda3\\envs\\dcase2019\\lib\\site-packages\\resampy\\core.py\u001b[0m in \u001b[0;36mresample\u001b[1;34m(x, sr_orig, sr_new, axis, filter, **kwargs)\u001b[0m\n\u001b[0;32m    118\u001b[0m     \u001b[0mx_2d\u001b[0m \u001b[1;33m=\u001b[0m \u001b[0mx\u001b[0m\u001b[1;33m.\u001b[0m\u001b[0mswapaxes\u001b[0m\u001b[1;33m(\u001b[0m\u001b[1;36m0\u001b[0m\u001b[1;33m,\u001b[0m \u001b[0maxis\u001b[0m\u001b[1;33m)\u001b[0m\u001b[1;33m.\u001b[0m\u001b[0mreshape\u001b[0m\u001b[1;33m(\u001b[0m\u001b[1;33m(\u001b[0m\u001b[0mx\u001b[0m\u001b[1;33m.\u001b[0m\u001b[0mshape\u001b[0m\u001b[1;33m[\u001b[0m\u001b[0maxis\u001b[0m\u001b[1;33m]\u001b[0m\u001b[1;33m,\u001b[0m \u001b[1;33m-\u001b[0m\u001b[1;36m1\u001b[0m\u001b[1;33m)\u001b[0m\u001b[1;33m)\u001b[0m\u001b[1;33m\u001b[0m\u001b[1;33m\u001b[0m\u001b[0m\n\u001b[0;32m    119\u001b[0m     \u001b[0my_2d\u001b[0m \u001b[1;33m=\u001b[0m \u001b[0my\u001b[0m\u001b[1;33m.\u001b[0m\u001b[0mswapaxes\u001b[0m\u001b[1;33m(\u001b[0m\u001b[1;36m0\u001b[0m\u001b[1;33m,\u001b[0m \u001b[0maxis\u001b[0m\u001b[1;33m)\u001b[0m\u001b[1;33m.\u001b[0m\u001b[0mreshape\u001b[0m\u001b[1;33m(\u001b[0m\u001b[1;33m(\u001b[0m\u001b[0my\u001b[0m\u001b[1;33m.\u001b[0m\u001b[0mshape\u001b[0m\u001b[1;33m[\u001b[0m\u001b[0maxis\u001b[0m\u001b[1;33m]\u001b[0m\u001b[1;33m,\u001b[0m \u001b[1;33m-\u001b[0m\u001b[1;36m1\u001b[0m\u001b[1;33m)\u001b[0m\u001b[1;33m)\u001b[0m\u001b[1;33m\u001b[0m\u001b[1;33m\u001b[0m\u001b[0m\n\u001b[1;32m--> 120\u001b[1;33m     \u001b[0mresample_f\u001b[0m\u001b[1;33m(\u001b[0m\u001b[0mx_2d\u001b[0m\u001b[1;33m,\u001b[0m \u001b[0my_2d\u001b[0m\u001b[1;33m,\u001b[0m \u001b[0msample_ratio\u001b[0m\u001b[1;33m,\u001b[0m \u001b[0minterp_win\u001b[0m\u001b[1;33m,\u001b[0m \u001b[0minterp_delta\u001b[0m\u001b[1;33m,\u001b[0m \u001b[0mprecision\u001b[0m\u001b[1;33m)\u001b[0m\u001b[1;33m\u001b[0m\u001b[1;33m\u001b[0m\u001b[0m\n\u001b[0m\u001b[0;32m    121\u001b[0m \u001b[1;33m\u001b[0m\u001b[0m\n\u001b[0;32m    122\u001b[0m     \u001b[1;32mreturn\u001b[0m \u001b[0my\u001b[0m\u001b[1;33m\u001b[0m\u001b[1;33m\u001b[0m\u001b[0m\n",
      "\u001b[1;31mKeyboardInterrupt\u001b[0m: "
     ]
    }
   ],
   "source": [
    "activities = ['Calling', 'Clapping', 'Drinking', 'Eating', 'Entering',\n",
    "              'Exiting', 'Falling', 'LyingDown', 'OpeningPillContainer',\n",
    "              'PickingObject', 'Reading', 'SitStill', 'Sitting', 'Sleeping',\n",
    "              'StandUp', 'Sweeping', 'UseLaptop', 'UsingPhone', 'WakeUp', 'Walking',\n",
    "              'WashingHand', 'WatchingTV', 'WaterPouring', 'Writing']\n",
    "    \n",
    "subjects = ['s01', 's02', 's03', 's04', 's05', 's06', 's07', 's08', 's09',\n",
    "            's10', 's11', 's12', 's13', 's14', 's15', 's16', 's17']\n",
    "\n",
    "test_subjects = ['s05', 's17']\n",
    "\n",
    "mergedActivities = ['Drinking', 'Eating', 'LyingDown', 'OpeningPillContainer', \n",
    "                      'PickingObject', 'Reading', 'SitStill', 'Sitting', 'Sleeping', \n",
    "                      'StandUp', 'UseLaptop', 'UsingPhone', 'WakeUp', 'Walking', \n",
    "                      'WaterPouring', 'Writing']\n",
    "\n",
    "specificActivities = ['Calling', 'Clapping', 'Falling', 'Sweeping', 'WashingHand', 'WatchingTV']\n",
    "\n",
    "enteringExiting = ['Entering', 'Exiting']\n",
    "\n",
    "\n",
    "def get_model_label(activity):\n",
    "    model_label = ''\n",
    "    if activity in specificActivities:\n",
    "        model_label = activity\n",
    "    elif activity in enteringExiting:\n",
    "        model_label = 'enteringExiting'\n",
    "    elif activity in mergedActivities:\n",
    "        model_label = 'other' \n",
    "    \n",
    "    return model_label\n",
    "                \n",
    "    \n",
    "for activity in activities:\n",
    "    for subject in test_subjects:\n",
    "        innerDir = subject + \"/\" + activity\n",
    "        for file in os.listdir(\"Dataset_audio/\" + innerDir):\n",
    "            if(file.endswith(\".wav\")):\n",
    "                model_label = get_model_label(activity)\n",
    "                save_prediction(\"Dataset_audio/\" + innerDir + \"/\" + file, file, model_label, subject)\n",
    "                print(subject,activity,file)"
   ]
  },
  {
   "cell_type": "code",
   "execution_count": null,
   "metadata": {},
   "outputs": [],
   "source": [
    "mat = print_M_P(conf_M)"
   ]
  },
  {
   "cell_type": "code",
   "execution_count": 8,
   "metadata": {},
   "outputs": [
    {
     "name": "stdout",
     "output_type": "stream",
     "text": [
      "[['activity', 'Calling', 'Clapping', 'Falling', 'Sweeping', 'WashingHand', 'WatchingTV', 'enteringExiting', 'other'], ['Calling', '0.5', '0.0', '0.0', '0.0', '0.0', '0.0', '0.17', '0.33'], ['Clapping', '0.0', '1.0', '0.0', '0.0', '0.0', '0.0', '0.0', '0.0'], ['Falling', '0.0', '0.08', '0.58', '0.0', '0.0', '0.0', '0.08', '0.25'], ['Sweeping', '0.0', '0.0', '0.0', '0.67', '0.0', '0.0', '0.0', '0.33'], ['WashingHand', '0.0', '0.0', '0.0', '0.0', '0.5', '0.0', '0.0', '0.5'], ['WatchingTV', '0.0', '0.0', '0.0', '0.0', '0.0', '0.67', '0.0', '0.33'], ['enteringExiting', '0.0', '0.07', '0.0', '0.0', '0.0', '0.0', '0.67', '0.27'], ['other', '0.0', '0.01', '0.0', '0.01', '0.0', '0.0', '0.0', '0.98']]\n"
     ]
    }
   ],
   "source": [
    "print(mat)\n",
    "# writing to csv file \n",
    "with open(\"test_results.csv\", 'w') as csvfile: \n",
    "    # creating a csv writer object \n",
    "    csvwriter = csv.writer(csvfile) \n",
    "    # writing the data rows \n",
    "    csvwriter.writerows(mat)"
   ]
  },
  {
   "cell_type": "code",
   "execution_count": 13,
   "metadata": {},
   "outputs": [
    {
     "data": {
      "text/plain": [
       "[[13, 0, 0, 0, 0, 0, 5, 9],\n",
       " [0, 12, 0, 0, 0, 0, 0, 0],\n",
       " [0, 0, 0, 0, 0, 0, 0, 0],\n",
       " [0, 0, 0, 0, 0, 0, 0, 0],\n",
       " [0, 0, 0, 0, 0, 0, 0, 0],\n",
       " [0, 0, 0, 0, 0, 0, 0, 0],\n",
       " [0, 0, 0, 0, 0, 0, 0, 0],\n",
       " [0, 0, 0, 0, 0, 0, 0, 10]]"
      ]
     },
     "execution_count": 13,
     "metadata": {},
     "output_type": "execute_result"
    }
   ],
   "source": [
    "conf_M"
   ]
  },
  {
   "cell_type": "code",
   "execution_count": null,
   "metadata": {},
   "outputs": [],
   "source": []
  }
 ],
 "metadata": {
  "kernelspec": {
   "display_name": "Python 3",
   "language": "python",
   "name": "python3"
  },
  "language_info": {
   "codemirror_mode": {
    "name": "ipython",
    "version": 3
   },
   "file_extension": ".py",
   "mimetype": "text/x-python",
   "name": "python",
   "nbconvert_exporter": "python",
   "pygments_lexer": "ipython3",
   "version": "3.6.10"
  }
 },
 "nbformat": 4,
 "nbformat_minor": 4
}
