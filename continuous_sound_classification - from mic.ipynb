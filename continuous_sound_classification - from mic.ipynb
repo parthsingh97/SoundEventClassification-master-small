{
 "cells": [
  {
   "cell_type": "code",
   "execution_count": 2,
   "metadata": {},
   "outputs": [
    {
     "name": "stderr",
     "output_type": "stream",
     "text": [
      "C:\\Users\\parth\\anaconda3\\envs\\dcase2019\\lib\\site-packages\\noisereduce\\noisereduce.py:5: TqdmExperimentalWarning: Using `tqdm.autonotebook.tqdm` in notebook mode. Use `tqdm.tqdm` instead to force console mode (e.g. in jupyter console)\n",
      "  from tqdm.autonotebook import tqdm\n",
      "Using TensorFlow backend.\n"
     ]
    }
   ],
   "source": [
    "import numpy as np\n",
    "import librosa\n",
    "import matplotlib.pyplot as plt\n",
    "import noisereduce as nr\n",
    "from keras.models import model_from_json\n",
    "from sklearn.preprocessing import LabelEncoder\n",
    "import IPython\n",
    "import os\n",
    "import pyaudio"
   ]
  },
  {
   "cell_type": "code",
   "execution_count": 3,
   "metadata": {},
   "outputs": [
    {
     "data": {
      "text/plain": [
       "array([0, 1, 2, 3, 4, 5, 6, 7], dtype=int64)"
      ]
     },
     "execution_count": 3,
     "metadata": {},
     "output_type": "execute_result"
    }
   ],
   "source": [
    "#Load segment audio classification model\n",
    "\n",
    "model_path = r\"Audio_classification/Models/\"\n",
    "model_name = \"audio_NN_New2020_03_23_16_40_28_acc_90.37\"\n",
    "\n",
    "# Model reconstruction from JSON file\n",
    "with open(model_path + model_name + '.json', 'r') as f:\n",
    "    model = model_from_json(f.read())\n",
    "\n",
    "# Load weights into the new model\n",
    "model.load_weights(model_path + model_name + '.h5')\n",
    "\n",
    "# Replicate label encoder\n",
    "lb = LabelEncoder()\n",
    "lb.fit_transform(['Calling', 'Clapping', 'Falling', 'Sweeping', 'WashingHand', 'WatchingTV','enteringExiting','other'])"
   ]
  },
  {
   "cell_type": "code",
   "execution_count": 14,
   "metadata": {},
   "outputs": [],
   "source": [
    "CHUNKSIZE = 22050 # fixed chunk size\n",
    "RATE = 22050\n",
    "\n",
    "#Some Utils\n",
    "\n",
    "# Plot audio with zoomed in y axis\n",
    "def plotAudio(output):\n",
    "    fig, ax = plt.subplots(nrows=1,ncols=1, figsize=(20,10))\n",
    "    plt.plot(output, color='blue')\n",
    "    ax.set_xlim((0, len(output)))\n",
    "    ax.margins(2, -0.1)\n",
    "    plt.show()\n",
    "\n",
    "# Plot audio\n",
    "def plotAudio2(output):\n",
    "    fig, ax = plt.subplots(nrows=1,ncols=1, figsize=(20,4))\n",
    "    plt.plot(output, color='blue')\n",
    "    ax.set_xlim((0, len(output)))\n",
    "    plt.show()\n",
    "\n",
    "def minMaxNormalize(arr):\n",
    "    mn = np.min(arr)\n",
    "    mx = np.max(arr)\n",
    "    return (arr-mn)/(mx-mn)\n",
    "\n",
    "def predictSound(X):\n",
    "    clip, index = librosa.effects.trim(X, top_db=20, frame_length=512, hop_length=64) # Empherically select top_db for every sample\n",
    "    stfts = np.abs(librosa.stft(clip, n_fft=512, hop_length=256, win_length=512))\n",
    "    stfts = np.mean(stfts,axis=1)\n",
    "    stfts = minMaxNormalize(stfts)\n",
    "    result = model.predict(np.array([stfts]))\n",
    "    predictions = [np.argmax(y) for y in result]\n",
    "    print(lb.inverse_transform([predictions[0]])[0])\n",
    "    plotAudio2(clip)\n",
    "    IPython.display.display(IPython.display.Audio(data=clip, rate=RATE))"
   ]
  },
  {
   "cell_type": "code",
   "execution_count": 1,
   "metadata": {},
   "outputs": [
    {
     "ename": "NameError",
     "evalue": "name 'pyaudio' is not defined",
     "output_type": "error",
     "traceback": [
      "\u001b[1;31m---------------------------------------------------------------------------\u001b[0m",
      "\u001b[1;31mNameError\u001b[0m                                 Traceback (most recent call last)",
      "\u001b[1;32m<ipython-input-1-c5393fbd84ea>\u001b[0m in \u001b[0;36m<module>\u001b[1;34m\u001b[0m\n\u001b[0;32m      1\u001b[0m \u001b[1;31m# initialize portaudio\u001b[0m\u001b[1;33m\u001b[0m\u001b[1;33m\u001b[0m\u001b[1;33m\u001b[0m\u001b[0m\n\u001b[1;32m----> 2\u001b[1;33m \u001b[0mp\u001b[0m \u001b[1;33m=\u001b[0m \u001b[0mpyaudio\u001b[0m\u001b[1;33m.\u001b[0m\u001b[0mPyAudio\u001b[0m\u001b[1;33m(\u001b[0m\u001b[1;33m)\u001b[0m\u001b[1;33m\u001b[0m\u001b[1;33m\u001b[0m\u001b[0m\n\u001b[0m\u001b[0;32m      3\u001b[0m \u001b[0mstream\u001b[0m \u001b[1;33m=\u001b[0m \u001b[0mp\u001b[0m\u001b[1;33m.\u001b[0m\u001b[0mopen\u001b[0m\u001b[1;33m(\u001b[0m\u001b[0mformat\u001b[0m\u001b[1;33m=\u001b[0m\u001b[0mpyaudio\u001b[0m\u001b[1;33m.\u001b[0m\u001b[0mpaFloat32\u001b[0m\u001b[1;33m,\u001b[0m \u001b[0mchannels\u001b[0m\u001b[1;33m=\u001b[0m\u001b[1;36m1\u001b[0m\u001b[1;33m,\u001b[0m \u001b[0mrate\u001b[0m\u001b[1;33m=\u001b[0m\u001b[0mRATE\u001b[0m\u001b[1;33m,\u001b[0m \u001b[0minput\u001b[0m\u001b[1;33m=\u001b[0m\u001b[1;32mTrue\u001b[0m\u001b[1;33m,\u001b[0m \u001b[0mframes_per_buffer\u001b[0m\u001b[1;33m=\u001b[0m\u001b[0mCHUNKSIZE\u001b[0m\u001b[1;33m)\u001b[0m\u001b[1;33m\u001b[0m\u001b[1;33m\u001b[0m\u001b[0m\n\u001b[0;32m      4\u001b[0m \u001b[1;33m\u001b[0m\u001b[0m\n\u001b[0;32m      5\u001b[0m \u001b[1;31m#noise window\u001b[0m\u001b[1;33m\u001b[0m\u001b[1;33m\u001b[0m\u001b[1;33m\u001b[0m\u001b[0m\n",
      "\u001b[1;31mNameError\u001b[0m: name 'pyaudio' is not defined"
     ]
    }
   ],
   "source": [
    "\n",
    "\n",
    "# initialize portaudio\n",
    "p = pyaudio.PyAudio()\n",
    "stream = p.open(format=pyaudio.paFloat32, channels=1, rate=RATE, input=True, frames_per_buffer=CHUNKSIZE)\n",
    "\n",
    "#noise window\n",
    "data = stream.read(10000)\n",
    "noise_sample = np.frombuffer(data, dtype=np.float32)\n",
    "print(\"Noise Sample\")\n",
    "plotAudio2(noise_sample)\n",
    "loud_threshold = np.mean(np.abs(noise_sample)) * 10\n",
    "print(\"Loud threshold\", loud_threshold)\n",
    "audio_buffer = []\n",
    "near = 0\n",
    "\n",
    "while(True):\n",
    "    # Read chunk and load it into numpy array.\n",
    "    data = stream.read(CHUNKSIZE)\n",
    "    current_window = np.frombuffer(data, dtype=np.float32)\n",
    "    \n",
    "    #Reduce noise real-time\n",
    "    current_window = nr.reduce_noise(audio_clip=current_window, noise_clip=noise_sample, verbose=False)\n",
    "    \n",
    "    if(audio_buffer==[]):\n",
    "        audio_buffer = current_window\n",
    "    else:\n",
    "        if(np.mean(np.abs(current_window))<loud_threshold):\n",
    "            print(\"Inside silence reign\")\n",
    "            if(near<10):\n",
    "                audio_buffer = np.concatenate((audio_buffer,current_window))\n",
    "                near += 1\n",
    "            else:\n",
    "                predictSound(np.array(audio_buffer))\n",
    "                audio_buffer = []\n",
    "                near = 0\n",
    "        else:\n",
    "            print(\"Inside loud reign\")\n",
    "            near = 0\n",
    "            audio_buffer = np.concatenate((audio_buffer,current_window))\n",
    "\n",
    "# close stream\n",
    "stream.stop_stream()\n",
    "stream.close()\n",
    "p.terminate()"
   ]
  },
  {
   "cell_type": "code",
   "execution_count": null,
   "metadata": {},
   "outputs": [],
   "source": []
  }
 ],
 "metadata": {
  "kernelspec": {
   "display_name": "Python 3",
   "language": "python",
   "name": "python3"
  }
 },
 "nbformat": 4,
 "nbformat_minor": 2
}
